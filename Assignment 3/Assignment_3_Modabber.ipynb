{
 "cells": [
  {
   "cell_type": "markdown",
   "metadata": {},
   "source": [
    "<h1><center>Assignment 3 </center></h1>\n",
    "<h2><center> SC9502B </center></h2>\n",
    "<h3><center> Yasamin Modabber </center></h3>\n",
    "<link rel=\"stylesheet\" type=\"text/css\" href=\"./text.css\">"
   ]
  },
  {
   "cell_type": "markdown",
   "metadata": {},
   "source": [
    "$\\textbf{Question 1}$: Do not use any Python libraries for this problem (=pure Python only): Write a code\n",
    "that computes the median for an arbitrary dataset"
   ]
  },
  {
   "cell_type": "code",
   "execution_count": 18,
   "metadata": {},
   "outputs": [
    {
     "name": "stdout",
     "output_type": "stream",
     "text": [
      "The sorted sample data set is:  [1, 2, 3, 5, 7, 10, 22]\n",
      "7\n",
      "The median of the sample data set is:  5\n"
     ]
    }
   ],
   "source": [
    "data_set = [1,5,2,7,10,3,22,1,3,4,55,6,9]\n",
    "# We first sort the data set\n",
    "N = len(data_set)\n",
    "for _ in range(N):\n",
    "    for i in range(N-1):\n",
    "        if data_set[i+1]<data_set[i]:\n",
    "            #swap\n",
    "            data_set[i+1], data_set[i] = data_set[i], data_set[i+1]\n",
    "print(\"The sorted sample data set is: \",data_set)\n",
    "print(N)\n",
    "#Then select the median\n",
    "if N%2 == 0:\n",
    "    median = (data_set[int(N/2)] + data_set[int(N/2)-1])/2\n",
    "else:\n",
    "    median = data_set[int(N/2)]\n",
    "\n",
    "print(\"The median of the sample data set is: \", median) "
   ]
  },
  {
   "cell_type": "markdown",
   "metadata": {},
   "source": [
    "$\\textbf{Question 2:}$ Show that the alternative way to compute $σ^2$ given bellow is true:\n",
    "$$\\sigma^2=\\frac{1}{N^2} \\sum_{i<j}\\left(x_i-x_j\\right)^2 $$"
   ]
  },
  {
   "cell_type": "markdown",
   "metadata": {},
   "source": [
    "Equation 1.7 for population variance\n",
    "\n",
    "$$\\sigma^2=\\frac{1}{N} \\sum_{i=1}^{N} \\left(x_i-\\mu\\right)^2 $$\n",
    "\n",
    "for a population of N data samples can be written using the equation for mean ($\\mu = \\frac{x_1 + x_2 + ... + x_N}{N}$) as\n",
    "\n",
    "$$\\sigma^2=\\frac{1}{N} \\sum_{i=1}^{N} \\left(x_i-\\frac{x_1 + x_2 + \\dots + x_N}{N} \\right)^2 $$\n",
    "\n",
    "$$\\sigma^2=\\frac{1}{N^3} \\sum_{i=1}^{N} \\left( (x_i-x_1) + (x_i-x_2) + \\dots +(x_i-x_N) \\right)^2 $$\n",
    "\n"
   ]
  },
  {
   "cell_type": "markdown",
   "metadata": {},
   "source": [
    "$\\textbf{Question 3:}$ Write a Python code that uses Equation 1.8 to compute the population variance. "
   ]
  },
  {
   "cell_type": "code",
   "execution_count": 2,
   "metadata": {},
   "outputs": [
    {
     "name": "stdout",
     "output_type": "stream",
     "text": [
      "The variance of the sample data set is:  198.4378698224852\n"
     ]
    }
   ],
   "source": [
    "data_set = [1,5,2,7,10,3,22,1,3,4,55,6,9]\n",
    "N=len(data_set)\n",
    "# we want to create the sigma^2\n",
    "def Population_variance(data_set):\n",
    "    var = 0\n",
    "    for i in range(N):\n",
    "        for j in range(N):\n",
    "            if i<j:\n",
    "                var += (data_set[i]-data_set[j])**2\n",
    "    var = var/(N**2)\n",
    "    return var\n",
    "\n",
    "\n",
    "P_variance= Population_variance(data_set)    \n",
    "print(\"The variance of the sample data set is: \", P_variance)"
   ]
  },
  {
   "cell_type": "markdown",
   "metadata": {},
   "source": [
    "$\\textbf{Question 4:}$ Equation 1.9 computes the sample variance, that is division is made by NA −1 instead of NA (entire dataset). What is the difference between the two cases and where does it come from. Write a Python code and plot the difference between the two as a function of the sample size. "
   ]
  },
  {
   "cell_type": "code",
   "execution_count": 4,
   "metadata": {},
   "outputs": [
    {
     "name": "stdout",
     "output_type": "stream",
     "text": [
      "488.094674556213\n",
      "860.9072187118691\n"
     ]
    },
    {
     "data": {
      "text/plain": [
       "[<matplotlib.lines.Line2D at 0x205be343fe0>]"
      ]
     },
     "execution_count": 4,
     "metadata": {},
     "output_type": "execute_result"
    },
    {
     "data": {
      "image/png": "[encoded data removed]",
      "text/plain": [
       "<Figure size 640x480 with 1 Axes>"
      ]
     },
     "metadata": {},
     "output_type": "display_data"
    }
   ],
   "source": [
    "#Now to find the sample variance\n",
    "def Sample_variance(data_set,n):\n",
    "    #take a sample of size n from the data set\n",
    "    sample_data_set = data_set[:n]\n",
    "    mean= sum(sample_data_set)/n\n",
    "    s_var = 0\n",
    "    for i in range(n):\n",
    "        s_var += (sample_data_set[i]-mean)**2\n",
    "    s_var = s_var/(n-1)\n",
    "    return s_var\n",
    "\n",
    "\n",
    "#create a large dataset from random numbers between 0 and 100\n",
    "import random\n",
    "data_set = [random.randint(0,100) for i in range(10000)]\n",
    "\n",
    "s_variance=[]\n",
    "P_variance = Population_variance(data_set)\n",
    "print(P_variance)\n",
    "print(Sample_variance(data_set,len(data_set)))\n",
    "n_range = [10*i for i in range(1,1000)]\n",
    "diff_variance = []\n",
    "for n in n_range:\n",
    "   s_variance.append(Sample_variance(data_set,n))\n",
    "   diff_variance.append(Sample_variance(data_set,n)- P_variance)\n",
    "\n",
    "import matplotlib.pyplot as plt\n",
    "plt.plot(n_range,s_variance)\n",
    "plt.plot(n_range,diff_variance)"
   ]
  },
  {
   "cell_type": "markdown",
   "metadata": {},
   "source": [
    "$\\textbf{Question 5:}$ Let μ = 170 and σ = 7. Prove, showing all steps, that Equation 1.13 is true."
   ]
  }
 ],
 "metadata": {
  "kernelspec": {
   "display_name": "Python 3",
   "language": "python",
   "name": "python3"
  },
  "language_info": {
   "codemirror_mode": {
    "name": "ipython",
    "version": 3
   },
   "file_extension": ".py",
   "mimetype": "text/x-python",
   "name": "python",
   "nbconvert_exporter": "python",
   "pygments_lexer": "ipython3",
   "version": "3.12.1"
  }
 },
 "nbformat": 4,
 "nbformat_minor": 2
}
