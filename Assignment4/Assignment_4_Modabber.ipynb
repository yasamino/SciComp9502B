{
  "cells": [
    {
      "cell_type": "markdown",
      "metadata": {
        "id": "EJQQML8n63ab"
      },
      "source": [
        "<h1><center>Assignment 4 </center></h1>\n",
        "<h2><center> SC9502B </center></h2>\n",
        "<h3><center> Yasamin Modabber </center></h3>\n",
        "<h3><center>Student ID : 251390444<center><h3>\n",
        "<link rel=\"stylesheet\" type=\"text/css\" href=\"./text.css\">"
      ]
    },
    {
      "cell_type": "markdown",
      "metadata": {
        "id": "nX9hCoWc63af"
      },
      "source": [
        "1 . Write a Python code that performs the addition of two matrices A and B. Do not use any libraries\n",
        "such as numpy. To demonstrate that your code works, use\n",
        "\n",
        "$$\n",
        "A=\\left[\\begin{array}{cccc}\n",
        "1 & 2 & 3 & 4 \\\\\n",
        "5 & 6 & 7 & 8 \\\\\n",
        "9 & 10 & 11 & 12\n",
        "\\end{array}\\right] \\quad \\text { and } \\quad B=\\left[\\begin{array}{cccc}\n",
        "-1 & 0 & 1 & 2 \\\\\n",
        "3 & 4 & 5 & 6 \\\\\n",
        "-7 & -8 & -9 & -10\n",
        "\\end{array}\\right]\n",
        "$$\n"
      ]
    },
    {
      "cell_type": "markdown",
      "metadata": {
        "id": "XYoBTW5j63ah"
      },
      "source": [
        "For this question we define a function called Addition that first checks to see if the dimensions of the two matrices match, and if they do, it adds element $a[i][j]$ of matrix A with element $b[i][j]$ of matrix B."
      ]
    },
    {
      "cell_type": "code",
      "execution_count": 2,
      "metadata": {
        "colab": {
          "base_uri": "https://localhost:8080/"
        },
        "id": "oZ2wPvw863aj",
        "outputId": "2d5aa223-bee0-447e-b997-97a8bf41e3a4"
      },
      "outputs": [
        {
          "output_type": "stream",
          "name": "stdout",
          "text": [
            " Matrix A is: \n",
            "  1   2   3   4\n",
            "  5   6   7   8\n",
            "  9  10  11  12\n",
            " Matrix B is: \n",
            " -1   0   1   2\n",
            "  3   4   5   6\n",
            " -7  -8  -9 -10\n",
            "The Addition of these two Matrices, Matrix C is:\n",
            "  0   2   4   6\n",
            "  8  10  12  14\n",
            "  2   2   2   2\n"
          ]
        }
      ],
      "source": [
        "def Addition(A,B):\n",
        "    if len(A)!=len(B) or len(A[0])!=len(B[0]):\n",
        "        return print(\"dimension mismatch\")\n",
        "    else:\n",
        "        C=[]\n",
        "        for i in range(len(A)):\n",
        "            C.append([])\n",
        "            for j in range(len(A[0])):\n",
        "                C[i].append(A[i][j]+B[i][j])\n",
        "    return C\n",
        "\n",
        "# A function to print the matrices\n",
        "def Print_result(C):\n",
        "    for i in C:\n",
        "        print(\" \".join(str(j).rjust(3) for j in i))\n",
        "\n",
        "#The example matrices\n",
        "A=[[1,2,3,4],[5,6,7,8],[9,10,11,12]]\n",
        "B=[[-1,0,1,2],[3,4,5,6,],[-7,-8,-9,-10]]\n",
        "\n",
        "print(\" Matrix A is: \")\n",
        "Print_result(A)\n",
        "print(\" Matrix B is: \")\n",
        "Print_result(B)\n",
        "print(\"The Addition of these two Matrices, Matrix C is:\")\n",
        "Print_result(Addition(A,B))"
      ]
    },
    {
      "cell_type": "markdown",
      "metadata": {
        "id": "MppO0StX63am"
      },
      "source": [
        "2 . Modify the code from the previous problem to perform matrix multiplication without any libraries.\n",
        "Then, write a second code that does the same with numpy. Instead of using the above matrices, use\n",
        "randomly generated $ n × n $ matrices where $n$ is varied: plot the execution time vs n. Interpret the\n",
        "results for the two codes."
      ]
    },
    {
      "cell_type": "markdown",
      "metadata": {
        "id": "cbtnxYwh63an"
      },
      "source": [
        "For this question we write a function \"Multiplication(A,B)\" that recieves two input matrices A and B and performs matrix multiplication by looping through the indices.\n",
        "\n",
        "We also write a function \"generate_random_matrix(n)\" that gets the size $n$ of the desired $n x n$ matrix as input and generates a matrix with random integers between -10 and 10 (can be changed)."
      ]
    },
    {
      "cell_type": "code",
      "execution_count": 3,
      "metadata": {
        "id": "syi_bRuz63ao"
      },
      "outputs": [],
      "source": [
        "import random\n",
        "\n",
        "def generate_random_matrix(n):\n",
        "    Matrix=[]\n",
        "    for i in range(n):\n",
        "        Matrix.append([])\n",
        "        for j in range(n):\n",
        "            Matrix[i].append(random.randint(-10,10))\n",
        "    return Matrix\n",
        "\n",
        "def Multiplication(A,B):\n",
        "    if len(A[0])!=len(B):\n",
        "        return print(\"dimension mismatch\")\n",
        "    else:\n",
        "        C=[]\n",
        "        for i in range(len(A)):\n",
        "            C.append([])\n",
        "            for j in range(len(A[0])):\n",
        "                c=0\n",
        "                for k in range(len(A[0])):\n",
        "                    c += (A[i][k] * B[k][j])\n",
        "                C[i].append(c)\n",
        "    return C\n"
      ]
    },
    {
      "cell_type": "markdown",
      "metadata": {
        "id": "kuO0aXvH63ao"
      },
      "source": [
        "We test the performance of the function by performing multiplication for two 5 x 5 matrices A and B:"
      ]
    },
    {
      "cell_type": "code",
      "execution_count": 4,
      "metadata": {
        "colab": {
          "base_uri": "https://localhost:8080/"
        },
        "id": "xNSD1NCG63ao",
        "outputId": "1ee9f984-ab40-4bc4-ee19-1cefcf0bb0e9"
      },
      "outputs": [
        {
          "output_type": "stream",
          "name": "stdout",
          "text": [
            "Matrix A\n",
            "  3   6   7   7  10\n",
            " -7   6   9  -4 -10\n",
            " -6   2   4   7  -1\n",
            "  8   5   7  -1  -8\n",
            "  0   1  -1  -3  -8\n",
            "Matrix B\n",
            "-10   1  -3   9   0\n",
            "  8   5   0  -4  -8\n",
            "  0   1   4  10   8\n",
            " -4  -2   8   5  -5\n",
            "  9   3  -3  -3  10\n",
            "Product of multiplication, Matrix C :\n",
            " 80  56  45  78  73\n",
            " 44  10  55  13 -56\n",
            " 39  -9  93  16 -29\n",
            "-108  18  20 141 -59\n",
            "-52 -14  -4  -5 -81\n"
          ]
        }
      ],
      "source": [
        "n=5\n",
        "A=generate_random_matrix(n)\n",
        "B=generate_random_matrix(n)\n",
        "\n",
        "print(\"Matrix A\")\n",
        "Print_result(A)\n",
        "print(\"Matrix B\")\n",
        "Print_result(B)\n",
        "print(\"Product of multiplication, Matrix C :\")\n",
        "Print_result(Multiplication(A,B))"
      ]
    },
    {
      "cell_type": "markdown",
      "metadata": {
        "id": "boYXjX1J63ap"
      },
      "source": [
        "We perform the multiplication with $matmul$ function in numpy:"
      ]
    },
    {
      "cell_type": "code",
      "execution_count": 5,
      "metadata": {
        "colab": {
          "base_uri": "https://localhost:8080/"
        },
        "id": "POnCnPBG63aq",
        "outputId": "c246a7c9-4345-44ae-d050-4dea9b9aedfd"
      },
      "outputs": [
        {
          "output_type": "stream",
          "name": "stdout",
          "text": [
            "Product of multiplication, Matrix C, using numpy :\n",
            " 80  56  45  78  73\n",
            " 44  10  55  13 -56\n",
            " 39  -9  93  16 -29\n",
            "-108  18  20 141 -59\n",
            "-52 -14  -4  -5 -81\n"
          ]
        }
      ],
      "source": [
        "import numpy as np\n",
        "\n",
        "C_num = np.matmul(A,B)\n",
        "print(\"Product of multiplication, Matrix C, using numpy :\")\n",
        "Print_result(C_num)"
      ]
    },
    {
      "cell_type": "markdown",
      "metadata": {
        "id": "5IGQQ_Su63ar"
      },
      "source": [
        "Now we time the code for two methods of multiplication:"
      ]
    },
    {
      "cell_type": "markdown",
      "metadata": {
        "id": "U3jeIsOK63ar"
      },
      "source": [
        "The function \"evaluate_execution_time(func , size , iterations)\" recieves the function, size of the arrays ($n$), and the number of iterations over which we average and calculate the execution time of the multiplications"
      ]
    },
    {
      "cell_type": "code",
      "execution_count": 6,
      "metadata": {
        "id": "O1k1KfUR63as"
      },
      "outputs": [],
      "source": [
        "import time\n",
        "\n",
        "def evaluate_execution_time(func,size,iterations):\n",
        "    A=generate_random_matrix(size)\n",
        "    B=generate_random_matrix(size)\n",
        "    start_time = time.time()\n",
        "    for k in range(iterations): #performs multiplication several times\n",
        "        result = func(A,B)\n",
        "    end_time = time.time()\n",
        "    execution_time = (end_time - start_time)/iterations #The averaged time is reported\n",
        "    return execution_time\n",
        "\n",
        "import matplotlib.pyplot as plt\n",
        "range_n=np.arange(1,100)\n",
        "ex_time_func=[]\n",
        "ex_time_numpy=[]\n",
        "for n in range_n:\n",
        "    ex_time_func.append(evaluate_execution_time(Multiplication,size=n,iterations=100))\n",
        "    ex_time_numpy.append(evaluate_execution_time(np.matmul , size=n , iterations=100))\n"
      ]
    },
    {
      "cell_type": "code",
      "execution_count": 7,
      "metadata": {
        "colab": {
          "base_uri": "https://localhost:8080/",
          "height": 490
        },
        "id": "Xq-DAQYr63as",
        "outputId": "30dd4f4c-1b1f-4465-f299-e0381742fc80"
      },
      "outputs": [
        {
          "output_type": "execute_result",
          "data": {
            "text/plain": [
              "<matplotlib.legend.Legend at 0x7eed3ff5b880>"
            ]
          },
          "metadata": {},
          "execution_count": 7
        },
        {
          "output_type": "display_data",
          "data": {
            "text/plain": [
              "<Figure size 640x480 with 1 Axes>"
            ],
            "image/png": "[encoded data removed]"
          },
          "metadata": {}
        }
      ],
      "source": [
        "plt.ylabel(\"execution time [s]\")\n",
        "plt.xlabel(\" n \")\n",
        "plt.title(\"Execution time vs. n\")\n",
        "plt.scatter(range_n,ex_time_numpy,label=\"Numpy\" , s=5)\n",
        "plt.scatter(range_n,ex_time_func,label=\"Function\" , s=5)\n",
        "plt.legend()"
      ]
    },
    {
      "cell_type": "markdown",
      "metadata": {
        "id": "guNGqb9o63at"
      },
      "source": [
        "We can see that for small values of n, the execution time of the multiplication using the two methods dosn't show much difference, but for bigger n, we see the execution time for the self-written function grows significnatly while the execution time of the multiplication performed by numpy dosn't show much change, reflecting the optimization done for numpy functions that ensures great performance.  "
      ]
    },
    {
      "cell_type": "markdown",
      "metadata": {
        "id": "iPYwue8B63at"
      },
      "source": [
        "3 . Follow the lecture notes and write a code that performs singular value decomposition. You can use\n",
        "library functions to complete the different steps as describe in lecture notes, except the ones that do a\n",
        "direct SVD, such as numpy.linalg.svd."
      ]
    },
    {
      "cell_type": "markdown",
      "metadata": {
        "id": "XhqYr8Yk63at"
      },
      "source": [
        "The process of finding the SVD for a desired matrix A is as follows:"
      ]
    },
    {
      "cell_type": "markdown",
      "metadata": {
        "id": "TISHYpwz63au"
      },
      "source": [
        "Step 1 : Diagonalize Matrix $S= A^{T} A$ to find the orthonormal basis ${v_1 , v_2 , v_3 , ...}$"
      ]
    },
    {
      "cell_type": "code",
      "execution_count": 19,
      "metadata": {
        "id": "CMr8lMmR63au"
      },
      "outputs": [],
      "source": [
        "# Lets perform SVD on the matrix A defined bellow:\n",
        "A = np.array([[-4 , 6],[3 , 8]])\n",
        "S = np.dot(np.transpose(A) , A)\n",
        "eig_val, eig_vec = np.linalg.eig(S) #gives the eigen values and the normalized eigen vectors"
      ]
    },
    {
      "cell_type": "markdown",
      "metadata": {
        "id": "hmhWsJnI63au"
      },
      "source": [
        "Step 2: reorder the eigen values, so that $\\lambda_1 > \\lambda_2 > ... > \\lambda_n$"
      ]
    },
    {
      "cell_type": "markdown",
      "metadata": {
        "id": "bRs6Y0LL63av"
      },
      "source": [
        "For this, we write the function $Rearrange(value,vector)$ that reorders the eigen values and corresponding eigenvectors in ascending order:"
      ]
    },
    {
      "cell_type": "code",
      "execution_count": 20,
      "metadata": {
        "id": "BLE4B46S63av"
      },
      "outputs": [],
      "source": [
        "import numpy as np\n",
        "\n",
        "def Rearrange(value , vector):\n",
        "    # For each eigenvalue in the array\n",
        "    for i in range(len(value)):\n",
        "        # If the current index doesn't hold the smallest value compared to the rest of the array\n",
        "        if value[i]>np.min(value[i:]):\n",
        "            # Swap the value of that index with the one holding the smallest value\n",
        "            ind=i\n",
        "            ind_min=i + np.argmin(value[i:])\n",
        "            # For the vector array\n",
        "            vector[ind] , vector[ind_min] = vector[ind_min] , vector[ind]\n",
        "            # And the values array\n",
        "            value[ind] , value[ind_min] = value[ind_min] , value[ind]\n",
        "    return value , vector\n",
        "\n",
        "eig_val , eig_vec = Rearrange( eig_val , eig_vec )"
      ]
    },
    {
      "cell_type": "markdown",
      "metadata": {
        "id": "XOffEtKq63aw"
      },
      "source": [
        "Step 3 : Let $\\sigma_j = \\sqrt{\\lambda_j}$ , j= 1, 2, 3,..."
      ]
    },
    {
      "cell_type": "code",
      "execution_count": 31,
      "metadata": {
        "id": "6aZHbHYd63aw"
      },
      "outputs": [],
      "source": [
        "Sigma=np.sqrt(eig_val)\n",
        "Sig_v=np.diag(Sigma)"
      ]
    },
    {
      "cell_type": "markdown",
      "metadata": {
        "id": "momUZEOY63aw"
      },
      "source": [
        "Step 4 : Define $\\bar{u_i} = \\frac{1}{\\sigma_i} A \\bar{v_i}$"
      ]
    },
    {
      "cell_type": "code",
      "execution_count": 22,
      "metadata": {
        "colab": {
          "base_uri": "https://localhost:8080/"
        },
        "id": "oZOywG8663ax",
        "outputId": "dd81d855-921c-49e9-daea-f2ee6fa1bd66"
      },
      "outputs": [
        {
          "output_type": "stream",
          "name": "stdout",
          "text": [
            "[array([-0.8,  0.6]), array([0.6, 0.8])]\n"
          ]
        }
      ],
      "source": [
        "u=[]\n",
        "for i in range(len(eig_vec)):\n",
        "    u.append( 1/Sigma[i] * np.matmul(A , np.transpose(eig_vec[i])) )\n",
        "print(u)"
      ]
    },
    {
      "cell_type": "markdown",
      "metadata": {
        "id": "rgF9jBHi63ax"
      },
      "source": [
        "Step 5: Extend the set of vectors using the gram-shmidth process to find the orthonormal basis"
      ]
    },
    {
      "cell_type": "code",
      "execution_count": 23,
      "metadata": {
        "colab": {
          "base_uri": "https://localhost:8080/"
        },
        "id": "aP-4Nm0o63ax",
        "outputId": "7a5edf64-ac12-411f-a0d2-3fb89023bf83"
      },
      "outputs": [
        {
          "output_type": "stream",
          "name": "stdout",
          "text": [
            "[array([-0.8,  0.6]), array([0.6, 0.8])]\n"
          ]
        }
      ],
      "source": [
        "u_space=[]\n",
        "def gram_shmidth(vec_space):\n",
        "    for i in range(len(vec_space)):\n",
        "        u_ort=u[i]\n",
        "        if i > 1 :\n",
        "            for j in range(i):\n",
        "                u_ort -= (np.matmul(u[i] , u_ort[j]))/(np.matmul(u_ort[j],u_ort[j])) * u_ort[j]\n",
        "        u_space.append(u_ort)\n",
        "    return(u_space)\n",
        "\n",
        "u_space = gram_shmidth(u)\n",
        "print(u)"
      ]
    },
    {
      "cell_type": "markdown",
      "metadata": {
        "id": "FkzIOkuK63bD"
      },
      "source": [
        "Step 6: Write the U,V, and $Sigma$ as defined above:\n",
        "\n",
        "$A = U \\Sigma V^{T} $"
      ]
    },
    {
      "cell_type": "code",
      "execution_count": 34,
      "metadata": {
        "colab": {
          "base_uri": "https://localhost:8080/"
        },
        "id": "U50gymrh63bE",
        "outputId": "4c87545c-a311-4429-e808-dbfef2d08a76"
      },
      "outputs": [
        {
          "output_type": "stream",
          "name": "stdout",
          "text": [
            "U:\n",
            "-0.8 0.6000000000000001\n",
            "0.6000000000000001 0.8\n",
            "Sigma\n",
            "5.0 0.0\n",
            "0.0 10.0\n",
            "V:\n",
            "1.0 0.0\n",
            "0.0 1.0\n",
            "The original matrix A : U Sigma V^T\n",
            "[[-4.  6.]\n",
            " [ 3.  8.]]\n"
          ]
        }
      ],
      "source": [
        "print(\"U:\")\n",
        "Print_result(np.transpose(u_space))\n",
        "\n",
        "print(\"Sigma\")\n",
        "Print_result(Sig_v)\n",
        "\n",
        "print(\"V:\")\n",
        "Print_result(np.transpose(eig_vec))\n",
        "\n",
        "print(\"The original matrix A : U Sigma V^T\")\n",
        "print(np.matmul(np.transpose(u_space) , np.matmul(Sig_v,eig_vec)))"
      ]
    }
  ],
  "metadata": {
    "kernelspec": {
      "display_name": "Python 3",
      "language": "python",
      "name": "python3"
    },
    "language_info": {
      "codemirror_mode": {
        "name": "ipython",
        "version": 3
      },
      "file_extension": ".py",
      "mimetype": "text/x-python",
      "name": "python",
      "nbconvert_exporter": "python",
      "pygments_lexer": "ipython3",
      "version": "3.12.1"
    },
    "colab": {
      "provenance": []
    }
  },
  "nbformat": 4,
  "nbformat_minor": 0
}